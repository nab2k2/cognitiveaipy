{
 "cells": [
  {
   "cell_type": "code",
   "execution_count": 1,
   "metadata": {},
   "outputs": [],
   "source": [
    "import pandas as pd\n",
    "import matplotlib.pyplot as plt\n",
    "import numpy as np"
   ]
  },
  {
   "cell_type": "code",
   "execution_count": 2,
   "metadata": {},
   "outputs": [],
   "source": [
    "df_pd = pd.read_csv('./customer/WA_Fn-UseC_-Telco-Customer-Churn.csv')"
   ]
  },
  {
   "cell_type": "code",
   "execution_count": 3,
   "metadata": {},
   "outputs": [
    {
     "data": {
      "text/html": [
       "<div>\n",
       "<style scoped>\n",
       "    .dataframe tbody tr th:only-of-type {\n",
       "        vertical-align: middle;\n",
       "    }\n",
       "\n",
       "    .dataframe tbody tr th {\n",
       "        vertical-align: top;\n",
       "    }\n",
       "\n",
       "    .dataframe thead th {\n",
       "        text-align: right;\n",
       "    }\n",
       "</style>\n",
       "<table border=\"1\" class=\"dataframe\">\n",
       "  <thead>\n",
       "    <tr style=\"text-align: right;\">\n",
       "      <th></th>\n",
       "      <th>customerID</th>\n",
       "      <th>gender</th>\n",
       "      <th>SeniorCitizen</th>\n",
       "      <th>Partner</th>\n",
       "      <th>Dependents</th>\n",
       "      <th>tenure</th>\n",
       "      <th>PhoneService</th>\n",
       "      <th>MultipleLines</th>\n",
       "      <th>InternetService</th>\n",
       "      <th>OnlineSecurity</th>\n",
       "      <th>...</th>\n",
       "      <th>DeviceProtection</th>\n",
       "      <th>TechSupport</th>\n",
       "      <th>StreamingTV</th>\n",
       "      <th>StreamingMovies</th>\n",
       "      <th>Contract</th>\n",
       "      <th>PaperlessBilling</th>\n",
       "      <th>PaymentMethod</th>\n",
       "      <th>MonthlyCharges</th>\n",
       "      <th>TotalCharges</th>\n",
       "      <th>Churn</th>\n",
       "    </tr>\n",
       "  </thead>\n",
       "  <tbody>\n",
       "    <tr>\n",
       "      <th>0</th>\n",
       "      <td>7590-VHVEG</td>\n",
       "      <td>Female</td>\n",
       "      <td>0</td>\n",
       "      <td>Yes</td>\n",
       "      <td>No</td>\n",
       "      <td>1</td>\n",
       "      <td>No</td>\n",
       "      <td>No phone service</td>\n",
       "      <td>DSL</td>\n",
       "      <td>No</td>\n",
       "      <td>...</td>\n",
       "      <td>No</td>\n",
       "      <td>No</td>\n",
       "      <td>No</td>\n",
       "      <td>No</td>\n",
       "      <td>Month-to-month</td>\n",
       "      <td>Yes</td>\n",
       "      <td>Electronic check</td>\n",
       "      <td>29.85</td>\n",
       "      <td>29.85</td>\n",
       "      <td>No</td>\n",
       "    </tr>\n",
       "    <tr>\n",
       "      <th>1</th>\n",
       "      <td>5575-GNVDE</td>\n",
       "      <td>Male</td>\n",
       "      <td>0</td>\n",
       "      <td>No</td>\n",
       "      <td>No</td>\n",
       "      <td>34</td>\n",
       "      <td>Yes</td>\n",
       "      <td>No</td>\n",
       "      <td>DSL</td>\n",
       "      <td>Yes</td>\n",
       "      <td>...</td>\n",
       "      <td>Yes</td>\n",
       "      <td>No</td>\n",
       "      <td>No</td>\n",
       "      <td>No</td>\n",
       "      <td>One year</td>\n",
       "      <td>No</td>\n",
       "      <td>Mailed check</td>\n",
       "      <td>56.95</td>\n",
       "      <td>1889.5</td>\n",
       "      <td>No</td>\n",
       "    </tr>\n",
       "    <tr>\n",
       "      <th>2</th>\n",
       "      <td>3668-QPYBK</td>\n",
       "      <td>Male</td>\n",
       "      <td>0</td>\n",
       "      <td>No</td>\n",
       "      <td>No</td>\n",
       "      <td>2</td>\n",
       "      <td>Yes</td>\n",
       "      <td>No</td>\n",
       "      <td>DSL</td>\n",
       "      <td>Yes</td>\n",
       "      <td>...</td>\n",
       "      <td>No</td>\n",
       "      <td>No</td>\n",
       "      <td>No</td>\n",
       "      <td>No</td>\n",
       "      <td>Month-to-month</td>\n",
       "      <td>Yes</td>\n",
       "      <td>Mailed check</td>\n",
       "      <td>53.85</td>\n",
       "      <td>108.15</td>\n",
       "      <td>Yes</td>\n",
       "    </tr>\n",
       "    <tr>\n",
       "      <th>3</th>\n",
       "      <td>7795-CFOCW</td>\n",
       "      <td>Male</td>\n",
       "      <td>0</td>\n",
       "      <td>No</td>\n",
       "      <td>No</td>\n",
       "      <td>45</td>\n",
       "      <td>No</td>\n",
       "      <td>No phone service</td>\n",
       "      <td>DSL</td>\n",
       "      <td>Yes</td>\n",
       "      <td>...</td>\n",
       "      <td>Yes</td>\n",
       "      <td>Yes</td>\n",
       "      <td>No</td>\n",
       "      <td>No</td>\n",
       "      <td>One year</td>\n",
       "      <td>No</td>\n",
       "      <td>Bank transfer (automatic)</td>\n",
       "      <td>42.30</td>\n",
       "      <td>1840.75</td>\n",
       "      <td>No</td>\n",
       "    </tr>\n",
       "    <tr>\n",
       "      <th>4</th>\n",
       "      <td>9237-HQITU</td>\n",
       "      <td>Female</td>\n",
       "      <td>0</td>\n",
       "      <td>No</td>\n",
       "      <td>No</td>\n",
       "      <td>2</td>\n",
       "      <td>Yes</td>\n",
       "      <td>No</td>\n",
       "      <td>Fiber optic</td>\n",
       "      <td>No</td>\n",
       "      <td>...</td>\n",
       "      <td>No</td>\n",
       "      <td>No</td>\n",
       "      <td>No</td>\n",
       "      <td>No</td>\n",
       "      <td>Month-to-month</td>\n",
       "      <td>Yes</td>\n",
       "      <td>Electronic check</td>\n",
       "      <td>70.70</td>\n",
       "      <td>151.65</td>\n",
       "      <td>Yes</td>\n",
       "    </tr>\n",
       "    <tr>\n",
       "      <th>5</th>\n",
       "      <td>9305-CDSKC</td>\n",
       "      <td>Female</td>\n",
       "      <td>0</td>\n",
       "      <td>No</td>\n",
       "      <td>No</td>\n",
       "      <td>8</td>\n",
       "      <td>Yes</td>\n",
       "      <td>Yes</td>\n",
       "      <td>Fiber optic</td>\n",
       "      <td>No</td>\n",
       "      <td>...</td>\n",
       "      <td>Yes</td>\n",
       "      <td>No</td>\n",
       "      <td>Yes</td>\n",
       "      <td>Yes</td>\n",
       "      <td>Month-to-month</td>\n",
       "      <td>Yes</td>\n",
       "      <td>Electronic check</td>\n",
       "      <td>99.65</td>\n",
       "      <td>820.5</td>\n",
       "      <td>Yes</td>\n",
       "    </tr>\n",
       "    <tr>\n",
       "      <th>6</th>\n",
       "      <td>1452-KIOVK</td>\n",
       "      <td>Male</td>\n",
       "      <td>0</td>\n",
       "      <td>No</td>\n",
       "      <td>Yes</td>\n",
       "      <td>22</td>\n",
       "      <td>Yes</td>\n",
       "      <td>Yes</td>\n",
       "      <td>Fiber optic</td>\n",
       "      <td>No</td>\n",
       "      <td>...</td>\n",
       "      <td>No</td>\n",
       "      <td>No</td>\n",
       "      <td>Yes</td>\n",
       "      <td>No</td>\n",
       "      <td>Month-to-month</td>\n",
       "      <td>Yes</td>\n",
       "      <td>Credit card (automatic)</td>\n",
       "      <td>89.10</td>\n",
       "      <td>1949.4</td>\n",
       "      <td>No</td>\n",
       "    </tr>\n",
       "    <tr>\n",
       "      <th>7</th>\n",
       "      <td>6713-OKOMC</td>\n",
       "      <td>Female</td>\n",
       "      <td>0</td>\n",
       "      <td>No</td>\n",
       "      <td>No</td>\n",
       "      <td>10</td>\n",
       "      <td>No</td>\n",
       "      <td>No phone service</td>\n",
       "      <td>DSL</td>\n",
       "      <td>Yes</td>\n",
       "      <td>...</td>\n",
       "      <td>No</td>\n",
       "      <td>No</td>\n",
       "      <td>No</td>\n",
       "      <td>No</td>\n",
       "      <td>Month-to-month</td>\n",
       "      <td>No</td>\n",
       "      <td>Mailed check</td>\n",
       "      <td>29.75</td>\n",
       "      <td>301.9</td>\n",
       "      <td>No</td>\n",
       "    </tr>\n",
       "    <tr>\n",
       "      <th>8</th>\n",
       "      <td>7892-POOKP</td>\n",
       "      <td>Female</td>\n",
       "      <td>0</td>\n",
       "      <td>Yes</td>\n",
       "      <td>No</td>\n",
       "      <td>28</td>\n",
       "      <td>Yes</td>\n",
       "      <td>Yes</td>\n",
       "      <td>Fiber optic</td>\n",
       "      <td>No</td>\n",
       "      <td>...</td>\n",
       "      <td>Yes</td>\n",
       "      <td>Yes</td>\n",
       "      <td>Yes</td>\n",
       "      <td>Yes</td>\n",
       "      <td>Month-to-month</td>\n",
       "      <td>Yes</td>\n",
       "      <td>Electronic check</td>\n",
       "      <td>104.80</td>\n",
       "      <td>3046.05</td>\n",
       "      <td>Yes</td>\n",
       "    </tr>\n",
       "    <tr>\n",
       "      <th>9</th>\n",
       "      <td>6388-TABGU</td>\n",
       "      <td>Male</td>\n",
       "      <td>0</td>\n",
       "      <td>No</td>\n",
       "      <td>Yes</td>\n",
       "      <td>62</td>\n",
       "      <td>Yes</td>\n",
       "      <td>No</td>\n",
       "      <td>DSL</td>\n",
       "      <td>Yes</td>\n",
       "      <td>...</td>\n",
       "      <td>No</td>\n",
       "      <td>No</td>\n",
       "      <td>No</td>\n",
       "      <td>No</td>\n",
       "      <td>One year</td>\n",
       "      <td>No</td>\n",
       "      <td>Bank transfer (automatic)</td>\n",
       "      <td>56.15</td>\n",
       "      <td>3487.95</td>\n",
       "      <td>No</td>\n",
       "    </tr>\n",
       "  </tbody>\n",
       "</table>\n",
       "<p>10 rows × 21 columns</p>\n",
       "</div>"
      ],
      "text/plain": [
       "   customerID  gender  SeniorCitizen Partner Dependents  tenure PhoneService  \\\n",
       "0  7590-VHVEG  Female              0     Yes         No       1           No   \n",
       "1  5575-GNVDE    Male              0      No         No      34          Yes   \n",
       "2  3668-QPYBK    Male              0      No         No       2          Yes   \n",
       "3  7795-CFOCW    Male              0      No         No      45           No   \n",
       "4  9237-HQITU  Female              0      No         No       2          Yes   \n",
       "5  9305-CDSKC  Female              0      No         No       8          Yes   \n",
       "6  1452-KIOVK    Male              0      No        Yes      22          Yes   \n",
       "7  6713-OKOMC  Female              0      No         No      10           No   \n",
       "8  7892-POOKP  Female              0     Yes         No      28          Yes   \n",
       "9  6388-TABGU    Male              0      No        Yes      62          Yes   \n",
       "\n",
       "      MultipleLines InternetService OnlineSecurity  ...  DeviceProtection  \\\n",
       "0  No phone service             DSL             No  ...                No   \n",
       "1                No             DSL            Yes  ...               Yes   \n",
       "2                No             DSL            Yes  ...                No   \n",
       "3  No phone service             DSL            Yes  ...               Yes   \n",
       "4                No     Fiber optic             No  ...                No   \n",
       "5               Yes     Fiber optic             No  ...               Yes   \n",
       "6               Yes     Fiber optic             No  ...                No   \n",
       "7  No phone service             DSL            Yes  ...                No   \n",
       "8               Yes     Fiber optic             No  ...               Yes   \n",
       "9                No             DSL            Yes  ...                No   \n",
       "\n",
       "  TechSupport StreamingTV StreamingMovies        Contract PaperlessBilling  \\\n",
       "0          No          No              No  Month-to-month              Yes   \n",
       "1          No          No              No        One year               No   \n",
       "2          No          No              No  Month-to-month              Yes   \n",
       "3         Yes          No              No        One year               No   \n",
       "4          No          No              No  Month-to-month              Yes   \n",
       "5          No         Yes             Yes  Month-to-month              Yes   \n",
       "6          No         Yes              No  Month-to-month              Yes   \n",
       "7          No          No              No  Month-to-month               No   \n",
       "8         Yes         Yes             Yes  Month-to-month              Yes   \n",
       "9          No          No              No        One year               No   \n",
       "\n",
       "               PaymentMethod MonthlyCharges  TotalCharges Churn  \n",
       "0           Electronic check          29.85         29.85    No  \n",
       "1               Mailed check          56.95        1889.5    No  \n",
       "2               Mailed check          53.85        108.15   Yes  \n",
       "3  Bank transfer (automatic)          42.30       1840.75    No  \n",
       "4           Electronic check          70.70        151.65   Yes  \n",
       "5           Electronic check          99.65         820.5   Yes  \n",
       "6    Credit card (automatic)          89.10        1949.4    No  \n",
       "7               Mailed check          29.75         301.9    No  \n",
       "8           Electronic check         104.80       3046.05   Yes  \n",
       "9  Bank transfer (automatic)          56.15       3487.95    No  \n",
       "\n",
       "[10 rows x 21 columns]"
      ]
     },
     "execution_count": 3,
     "metadata": {},
     "output_type": "execute_result"
    }
   ],
   "source": [
    "df_pd.head(10)"
   ]
  },
  {
   "cell_type": "code",
   "execution_count": 4,
   "metadata": {},
   "outputs": [],
   "source": [
    "import findspark\n",
    "findspark.init('/app/spark')"
   ]
  },
  {
   "cell_type": "code",
   "execution_count": 5,
   "metadata": {},
   "outputs": [],
   "source": [
    "from pyspark.sql import SparkSession"
   ]
  },
  {
   "cell_type": "code",
   "execution_count": 6,
   "metadata": {},
   "outputs": [],
   "source": [
    "spark = SparkSession.builder.appName('Customer').getOrCreate()"
   ]
  },
  {
   "cell_type": "code",
   "execution_count": 7,
   "metadata": {},
   "outputs": [],
   "source": [
    "df = spark.read.csv('./customer/WA_Fn-UseC_-Telco-Customer-Churn.csv', header=True, inferSchema=True)"
   ]
  },
  {
   "cell_type": "code",
   "execution_count": 8,
   "metadata": {},
   "outputs": [
    {
     "name": "stdout",
     "output_type": "stream",
     "text": [
      "root\n",
      " |-- customerID: string (nullable = true)\n",
      " |-- gender: string (nullable = true)\n",
      " |-- SeniorCitizen: integer (nullable = true)\n",
      " |-- Partner: string (nullable = true)\n",
      " |-- Dependents: string (nullable = true)\n",
      " |-- tenure: integer (nullable = true)\n",
      " |-- PhoneService: string (nullable = true)\n",
      " |-- MultipleLines: string (nullable = true)\n",
      " |-- InternetService: string (nullable = true)\n",
      " |-- OnlineSecurity: string (nullable = true)\n",
      " |-- OnlineBackup: string (nullable = true)\n",
      " |-- DeviceProtection: string (nullable = true)\n",
      " |-- TechSupport: string (nullable = true)\n",
      " |-- StreamingTV: string (nullable = true)\n",
      " |-- StreamingMovies: string (nullable = true)\n",
      " |-- Contract: string (nullable = true)\n",
      " |-- PaperlessBilling: string (nullable = true)\n",
      " |-- PaymentMethod: string (nullable = true)\n",
      " |-- MonthlyCharges: double (nullable = true)\n",
      " |-- TotalCharges: string (nullable = true)\n",
      " |-- Churn: string (nullable = true)\n",
      "\n"
     ]
    }
   ],
   "source": [
    "df.printSchema()"
   ]
  },
  {
   "cell_type": "code",
   "execution_count": 9,
   "metadata": {},
   "outputs": [],
   "source": [
    "import seaborn as sns"
   ]
  },
  {
   "cell_type": "code",
   "execution_count": 10,
   "metadata": {},
   "outputs": [
    {
     "name": "stdout",
     "output_type": "stream",
     "text": [
      "<class 'pandas.core.frame.DataFrame'>\n",
      "RangeIndex: 7043 entries, 0 to 7042\n",
      "Data columns (total 21 columns):\n",
      "customerID          7043 non-null object\n",
      "gender              7043 non-null object\n",
      "SeniorCitizen       7043 non-null int64\n",
      "Partner             7043 non-null object\n",
      "Dependents          7043 non-null object\n",
      "tenure              7043 non-null int64\n",
      "PhoneService        7043 non-null object\n",
      "MultipleLines       7043 non-null object\n",
      "InternetService     7043 non-null object\n",
      "OnlineSecurity      7043 non-null object\n",
      "OnlineBackup        7043 non-null object\n",
      "DeviceProtection    7043 non-null object\n",
      "TechSupport         7043 non-null object\n",
      "StreamingTV         7043 non-null object\n",
      "StreamingMovies     7043 non-null object\n",
      "Contract            7043 non-null object\n",
      "PaperlessBilling    7043 non-null object\n",
      "PaymentMethod       7043 non-null object\n",
      "MonthlyCharges      7043 non-null float64\n",
      "TotalCharges        7043 non-null object\n",
      "Churn               7043 non-null object\n",
      "dtypes: float64(1), int64(2), object(18)\n",
      "memory usage: 1.1+ MB\n"
     ]
    }
   ],
   "source": [
    "df_pd.info()"
   ]
  },
  {
   "cell_type": "code",
   "execution_count": 11,
   "metadata": {},
   "outputs": [
    {
     "name": "stdout",
     "output_type": "stream",
     "text": [
      "+------+-----+\n",
      "|gender|count|\n",
      "+------+-----+\n",
      "|Female| 3488|\n",
      "|  Male| 3555|\n",
      "+------+-----+\n",
      "\n"
     ]
    }
   ],
   "source": [
    "df.groupby('gender').count().show()"
   ]
  },
  {
   "cell_type": "code",
   "execution_count": 12,
   "metadata": {},
   "outputs": [
    {
     "name": "stdout",
     "output_type": "stream",
     "text": [
      "root\n",
      " |-- customerID: string (nullable = true)\n",
      " |-- gender: string (nullable = true)\n",
      " |-- SeniorCitizen: integer (nullable = true)\n",
      " |-- Partner: string (nullable = true)\n",
      " |-- Dependents: string (nullable = true)\n",
      " |-- tenure: integer (nullable = true)\n",
      " |-- PhoneService: string (nullable = true)\n",
      " |-- MultipleLines: string (nullable = true)\n",
      " |-- InternetService: string (nullable = true)\n",
      " |-- OnlineSecurity: string (nullable = true)\n",
      " |-- OnlineBackup: string (nullable = true)\n",
      " |-- DeviceProtection: string (nullable = true)\n",
      " |-- TechSupport: string (nullable = true)\n",
      " |-- StreamingTV: string (nullable = true)\n",
      " |-- StreamingMovies: string (nullable = true)\n",
      " |-- Contract: string (nullable = true)\n",
      " |-- PaperlessBilling: string (nullable = true)\n",
      " |-- PaymentMethod: string (nullable = true)\n",
      " |-- MonthlyCharges: double (nullable = true)\n",
      " |-- TotalCharges: string (nullable = true)\n",
      " |-- Churn: string (nullable = true)\n",
      "\n"
     ]
    }
   ],
   "source": [
    "df.printSchema()"
   ]
  },
  {
   "cell_type": "code",
   "execution_count": 13,
   "metadata": {},
   "outputs": [
    {
     "data": {
      "text/html": [
       "<div>\n",
       "<style scoped>\n",
       "    .dataframe tbody tr th:only-of-type {\n",
       "        vertical-align: middle;\n",
       "    }\n",
       "\n",
       "    .dataframe tbody tr th {\n",
       "        vertical-align: top;\n",
       "    }\n",
       "\n",
       "    .dataframe thead th {\n",
       "        text-align: right;\n",
       "    }\n",
       "</style>\n",
       "<table border=\"1\" class=\"dataframe\">\n",
       "  <thead>\n",
       "    <tr style=\"text-align: right;\">\n",
       "      <th></th>\n",
       "      <th>customerID</th>\n",
       "      <th>gender</th>\n",
       "      <th>SeniorCitizen</th>\n",
       "      <th>Partner</th>\n",
       "      <th>Dependents</th>\n",
       "      <th>tenure</th>\n",
       "      <th>PhoneService</th>\n",
       "      <th>MultipleLines</th>\n",
       "      <th>InternetService</th>\n",
       "      <th>OnlineSecurity</th>\n",
       "      <th>...</th>\n",
       "      <th>DeviceProtection</th>\n",
       "      <th>TechSupport</th>\n",
       "      <th>StreamingTV</th>\n",
       "      <th>StreamingMovies</th>\n",
       "      <th>Contract</th>\n",
       "      <th>PaperlessBilling</th>\n",
       "      <th>PaymentMethod</th>\n",
       "      <th>MonthlyCharges</th>\n",
       "      <th>TotalCharges</th>\n",
       "      <th>Churn</th>\n",
       "    </tr>\n",
       "  </thead>\n",
       "  <tbody>\n",
       "    <tr>\n",
       "      <th>0</th>\n",
       "      <td>7590-VHVEG</td>\n",
       "      <td>Female</td>\n",
       "      <td>0</td>\n",
       "      <td>Yes</td>\n",
       "      <td>No</td>\n",
       "      <td>1</td>\n",
       "      <td>No</td>\n",
       "      <td>No phone service</td>\n",
       "      <td>DSL</td>\n",
       "      <td>No</td>\n",
       "      <td>...</td>\n",
       "      <td>No</td>\n",
       "      <td>No</td>\n",
       "      <td>No</td>\n",
       "      <td>No</td>\n",
       "      <td>Month-to-month</td>\n",
       "      <td>Yes</td>\n",
       "      <td>Electronic check</td>\n",
       "      <td>29.85</td>\n",
       "      <td>29.85</td>\n",
       "      <td>No</td>\n",
       "    </tr>\n",
       "    <tr>\n",
       "      <th>1</th>\n",
       "      <td>5575-GNVDE</td>\n",
       "      <td>Male</td>\n",
       "      <td>0</td>\n",
       "      <td>No</td>\n",
       "      <td>No</td>\n",
       "      <td>34</td>\n",
       "      <td>Yes</td>\n",
       "      <td>No</td>\n",
       "      <td>DSL</td>\n",
       "      <td>Yes</td>\n",
       "      <td>...</td>\n",
       "      <td>Yes</td>\n",
       "      <td>No</td>\n",
       "      <td>No</td>\n",
       "      <td>No</td>\n",
       "      <td>One year</td>\n",
       "      <td>No</td>\n",
       "      <td>Mailed check</td>\n",
       "      <td>56.95</td>\n",
       "      <td>1889.5</td>\n",
       "      <td>No</td>\n",
       "    </tr>\n",
       "    <tr>\n",
       "      <th>2</th>\n",
       "      <td>3668-QPYBK</td>\n",
       "      <td>Male</td>\n",
       "      <td>0</td>\n",
       "      <td>No</td>\n",
       "      <td>No</td>\n",
       "      <td>2</td>\n",
       "      <td>Yes</td>\n",
       "      <td>No</td>\n",
       "      <td>DSL</td>\n",
       "      <td>Yes</td>\n",
       "      <td>...</td>\n",
       "      <td>No</td>\n",
       "      <td>No</td>\n",
       "      <td>No</td>\n",
       "      <td>No</td>\n",
       "      <td>Month-to-month</td>\n",
       "      <td>Yes</td>\n",
       "      <td>Mailed check</td>\n",
       "      <td>53.85</td>\n",
       "      <td>108.15</td>\n",
       "      <td>Yes</td>\n",
       "    </tr>\n",
       "    <tr>\n",
       "      <th>3</th>\n",
       "      <td>7795-CFOCW</td>\n",
       "      <td>Male</td>\n",
       "      <td>0</td>\n",
       "      <td>No</td>\n",
       "      <td>No</td>\n",
       "      <td>45</td>\n",
       "      <td>No</td>\n",
       "      <td>No phone service</td>\n",
       "      <td>DSL</td>\n",
       "      <td>Yes</td>\n",
       "      <td>...</td>\n",
       "      <td>Yes</td>\n",
       "      <td>Yes</td>\n",
       "      <td>No</td>\n",
       "      <td>No</td>\n",
       "      <td>One year</td>\n",
       "      <td>No</td>\n",
       "      <td>Bank transfer (automatic)</td>\n",
       "      <td>42.30</td>\n",
       "      <td>1840.75</td>\n",
       "      <td>No</td>\n",
       "    </tr>\n",
       "    <tr>\n",
       "      <th>4</th>\n",
       "      <td>9237-HQITU</td>\n",
       "      <td>Female</td>\n",
       "      <td>0</td>\n",
       "      <td>No</td>\n",
       "      <td>No</td>\n",
       "      <td>2</td>\n",
       "      <td>Yes</td>\n",
       "      <td>No</td>\n",
       "      <td>Fiber optic</td>\n",
       "      <td>No</td>\n",
       "      <td>...</td>\n",
       "      <td>No</td>\n",
       "      <td>No</td>\n",
       "      <td>No</td>\n",
       "      <td>No</td>\n",
       "      <td>Month-to-month</td>\n",
       "      <td>Yes</td>\n",
       "      <td>Electronic check</td>\n",
       "      <td>70.70</td>\n",
       "      <td>151.65</td>\n",
       "      <td>Yes</td>\n",
       "    </tr>\n",
       "  </tbody>\n",
       "</table>\n",
       "<p>5 rows × 21 columns</p>\n",
       "</div>"
      ],
      "text/plain": [
       "   customerID  gender  SeniorCitizen Partner Dependents  tenure PhoneService  \\\n",
       "0  7590-VHVEG  Female              0     Yes         No       1           No   \n",
       "1  5575-GNVDE    Male              0      No         No      34          Yes   \n",
       "2  3668-QPYBK    Male              0      No         No       2          Yes   \n",
       "3  7795-CFOCW    Male              0      No         No      45           No   \n",
       "4  9237-HQITU  Female              0      No         No       2          Yes   \n",
       "\n",
       "      MultipleLines InternetService OnlineSecurity  ...  DeviceProtection  \\\n",
       "0  No phone service             DSL             No  ...                No   \n",
       "1                No             DSL            Yes  ...               Yes   \n",
       "2                No             DSL            Yes  ...                No   \n",
       "3  No phone service             DSL            Yes  ...               Yes   \n",
       "4                No     Fiber optic             No  ...                No   \n",
       "\n",
       "  TechSupport StreamingTV StreamingMovies        Contract PaperlessBilling  \\\n",
       "0          No          No              No  Month-to-month              Yes   \n",
       "1          No          No              No        One year               No   \n",
       "2          No          No              No  Month-to-month              Yes   \n",
       "3         Yes          No              No        One year               No   \n",
       "4          No          No              No  Month-to-month              Yes   \n",
       "\n",
       "               PaymentMethod MonthlyCharges  TotalCharges Churn  \n",
       "0           Electronic check          29.85         29.85    No  \n",
       "1               Mailed check          56.95        1889.5    No  \n",
       "2               Mailed check          53.85        108.15   Yes  \n",
       "3  Bank transfer (automatic)          42.30       1840.75    No  \n",
       "4           Electronic check          70.70        151.65   Yes  \n",
       "\n",
       "[5 rows x 21 columns]"
      ]
     },
     "execution_count": 13,
     "metadata": {},
     "output_type": "execute_result"
    }
   ],
   "source": [
    "df_pd.head()"
   ]
  },
  {
   "cell_type": "code",
   "execution_count": 14,
   "metadata": {},
   "outputs": [
    {
     "data": {
      "text/plain": [
       "<seaborn.axisgrid.PairGrid at 0x7f6bb010d710>"
      ]
     },
     "execution_count": 14,
     "metadata": {},
     "output_type": "execute_result"
    },
    {
     "data": {
      "image/png": "[encoded data removed]",
      "text/plain": [
       "<Figure size 540x540 with 12 Axes>"
      ]
     },
     "metadata": {
      "needs_background": "light"
     },
     "output_type": "display_data"
    }
   ],
   "source": [
    "sns.pairplot(df_pd)"
   ]
  },
  {
   "cell_type": "code",
   "execution_count": 15,
   "metadata": {},
   "outputs": [
    {
     "data": {
      "text/plain": [
       "<matplotlib.axes._subplots.AxesSubplot at 0x7f6bab67a390>"
      ]
     },
     "execution_count": 15,
     "metadata": {},
     "output_type": "execute_result"
    },
    {
     "data": {
      "image/png": "[encoded data removed]",
      "text/plain": [
       "<Figure size 432x288 with 1 Axes>"
      ]
     },
     "metadata": {
      "needs_background": "light"
     },
     "output_type": "display_data"
    }
   ],
   "source": [
    "sns.scatterplot(x='tenure', y='MonthlyCharges', data=df_pd, hue='Churn')"
   ]
  },
  {
   "cell_type": "code",
   "execution_count": 16,
   "metadata": {},
   "outputs": [
    {
     "data": {
      "text/plain": [
       "0"
      ]
     },
     "execution_count": 16,
     "metadata": {},
     "output_type": "execute_result"
    }
   ],
   "source": [
    "len(df_pd[df_pd['SeniorCitizen'].isna()])"
   ]
  },
  {
   "cell_type": "code",
   "execution_count": 17,
   "metadata": {},
   "outputs": [
    {
     "data": {
      "text/plain": [
       "['customerID',\n",
       " 'gender',\n",
       " 'SeniorCitizen',\n",
       " 'Partner',\n",
       " 'Dependents',\n",
       " 'tenure',\n",
       " 'PhoneService',\n",
       " 'MultipleLines',\n",
       " 'InternetService',\n",
       " 'OnlineSecurity',\n",
       " 'OnlineBackup',\n",
       " 'DeviceProtection',\n",
       " 'TechSupport',\n",
       " 'StreamingTV',\n",
       " 'StreamingMovies',\n",
       " 'Contract',\n",
       " 'PaperlessBilling',\n",
       " 'PaymentMethod',\n",
       " 'MonthlyCharges',\n",
       " 'TotalCharges',\n",
       " 'Churn']"
      ]
     },
     "execution_count": 17,
     "metadata": {},
     "output_type": "execute_result"
    }
   ],
   "source": [
    "[col for col in df_pd.columns if len(df_pd[df_pd[col].isna()])==0]"
   ]
  },
  {
   "cell_type": "code",
   "execution_count": 18,
   "metadata": {},
   "outputs": [
    {
     "data": {
      "text/plain": [
       "21"
      ]
     },
     "execution_count": 18,
     "metadata": {},
     "output_type": "execute_result"
    }
   ],
   "source": [
    "len(df_pd.columns)"
   ]
  },
  {
   "cell_type": "code",
   "execution_count": 19,
   "metadata": {},
   "outputs": [
    {
     "name": "stdout",
     "output_type": "stream",
     "text": [
      "+-------------+-----+\n",
      "|SeniorCitizen|count|\n",
      "+-------------+-----+\n",
      "|            1| 1142|\n",
      "|            0| 5901|\n",
      "+-------------+-----+\n",
      "\n"
     ]
    }
   ],
   "source": [
    "df.groupBy('SeniorCitizen').count().show()"
   ]
  },
  {
   "cell_type": "code",
   "execution_count": 20,
   "metadata": {},
   "outputs": [
    {
     "name": "stdout",
     "output_type": "stream",
     "text": [
      "+------+-----+\n",
      "|gender|count|\n",
      "+------+-----+\n",
      "|Female| 3488|\n",
      "|  Male| 3555|\n",
      "+------+-----+\n",
      "\n",
      "+-------------+-----+\n",
      "|SeniorCitizen|count|\n",
      "+-------------+-----+\n",
      "|            1| 1142|\n",
      "|            0| 5901|\n",
      "+-------------+-----+\n",
      "\n",
      "+-------+-----+\n",
      "|Partner|count|\n",
      "+-------+-----+\n",
      "|     No| 3641|\n",
      "|    Yes| 3402|\n",
      "+-------+-----+\n",
      "\n",
      "+----------+-----+\n",
      "|Dependents|count|\n",
      "+----------+-----+\n",
      "|        No| 4933|\n",
      "|       Yes| 2110|\n",
      "+----------+-----+\n",
      "\n",
      "+------+-----+\n",
      "|tenure|count|\n",
      "+------+-----+\n",
      "|    31|   65|\n",
      "|    65|   76|\n",
      "|    53|   70|\n",
      "|    34|   65|\n",
      "|    28|   57|\n",
      "|    27|   72|\n",
      "|    26|   79|\n",
      "|    44|   51|\n",
      "|    12|  117|\n",
      "|    22|   90|\n",
      "|    47|   68|\n",
      "|     1|  613|\n",
      "|    52|   80|\n",
      "|    13|  109|\n",
      "|    16|   80|\n",
      "|     6|  110|\n",
      "|     3|  200|\n",
      "|    20|   71|\n",
      "|    40|   64|\n",
      "|    57|   65|\n",
      "+------+-----+\n",
      "only showing top 20 rows\n",
      "\n",
      "+------------+-----+\n",
      "|PhoneService|count|\n",
      "+------------+-----+\n",
      "|          No|  682|\n",
      "|         Yes| 6361|\n",
      "+------------+-----+\n",
      "\n",
      "+----------------+-----+\n",
      "|   MultipleLines|count|\n",
      "+----------------+-----+\n",
      "|No phone service|  682|\n",
      "|              No| 3390|\n",
      "|             Yes| 2971|\n",
      "+----------------+-----+\n",
      "\n",
      "+---------------+-----+\n",
      "|InternetService|count|\n",
      "+---------------+-----+\n",
      "|    Fiber optic| 3096|\n",
      "|             No| 1526|\n",
      "|            DSL| 2421|\n",
      "+---------------+-----+\n",
      "\n",
      "+-------------------+-----+\n",
      "|     OnlineSecurity|count|\n",
      "+-------------------+-----+\n",
      "|                 No| 3498|\n",
      "|                Yes| 2019|\n",
      "|No internet service| 1526|\n",
      "+-------------------+-----+\n",
      "\n",
      "+-------------------+-----+\n",
      "|       OnlineBackup|count|\n",
      "+-------------------+-----+\n",
      "|                 No| 3088|\n",
      "|                Yes| 2429|\n",
      "|No internet service| 1526|\n",
      "+-------------------+-----+\n",
      "\n",
      "+-------------------+-----+\n",
      "|   DeviceProtection|count|\n",
      "+-------------------+-----+\n",
      "|                 No| 3095|\n",
      "|                Yes| 2422|\n",
      "|No internet service| 1526|\n",
      "+-------------------+-----+\n",
      "\n",
      "+-------------------+-----+\n",
      "|        TechSupport|count|\n",
      "+-------------------+-----+\n",
      "|                 No| 3473|\n",
      "|                Yes| 2044|\n",
      "|No internet service| 1526|\n",
      "+-------------------+-----+\n",
      "\n",
      "+-------------------+-----+\n",
      "|        StreamingTV|count|\n",
      "+-------------------+-----+\n",
      "|                 No| 2810|\n",
      "|                Yes| 2707|\n",
      "|No internet service| 1526|\n",
      "+-------------------+-----+\n",
      "\n",
      "+-------------------+-----+\n",
      "|    StreamingMovies|count|\n",
      "+-------------------+-----+\n",
      "|                 No| 2785|\n",
      "|                Yes| 2732|\n",
      "|No internet service| 1526|\n",
      "+-------------------+-----+\n",
      "\n",
      "+--------------+-----+\n",
      "|      Contract|count|\n",
      "+--------------+-----+\n",
      "|Month-to-month| 3875|\n",
      "|      One year| 1473|\n",
      "|      Two year| 1695|\n",
      "+--------------+-----+\n",
      "\n",
      "+----------------+-----+\n",
      "|PaperlessBilling|count|\n",
      "+----------------+-----+\n",
      "|              No| 2872|\n",
      "|             Yes| 4171|\n",
      "+----------------+-----+\n",
      "\n",
      "+--------------------+-----+\n",
      "|       PaymentMethod|count|\n",
      "+--------------------+-----+\n",
      "|Credit card (auto...| 1522|\n",
      "|        Mailed check| 1612|\n",
      "|Bank transfer (au...| 1544|\n",
      "|    Electronic check| 2365|\n",
      "+--------------------+-----+\n",
      "\n",
      "+--------------+-----+\n",
      "|MonthlyCharges|count|\n",
      "+--------------+-----+\n",
      "|          74.5|    6|\n",
      "|         78.75|    7|\n",
      "|          64.2|    5|\n",
      "|          98.3|    3|\n",
      "|          56.8|    2|\n",
      "|          49.8|    7|\n",
      "|          76.4|    5|\n",
      "|         61.95|    1|\n",
      "|          69.8|    7|\n",
      "|         96.35|    3|\n",
      "|         74.85|    7|\n",
      "|        105.55|    5|\n",
      "|         63.95|    2|\n",
      "|        109.75|    5|\n",
      "|         110.7|    1|\n",
      "|          78.9|    7|\n",
      "|         82.65|    3|\n",
      "|         85.65|    6|\n",
      "|          53.3|    1|\n",
      "|        113.15|    3|\n",
      "+--------------+-----+\n",
      "only showing top 20 rows\n",
      "\n",
      "+------------+-----+\n",
      "|TotalCharges|count|\n",
      "+------------+-----+\n",
      "|      3437.5|    1|\n",
      "|     1612.75|    1|\n",
      "|       483.7|    1|\n",
      "|      1756.6|    1|\n",
      "|     2633.95|    1|\n",
      "|      6710.5|    1|\n",
      "|      1490.4|    1|\n",
      "|      936.85|    1|\n",
      "|      340.35|    2|\n",
      "|       550.6|    1|\n",
      "|      3055.5|    1|\n",
      "|     1522.65|    1|\n",
      "|     4494.65|    1|\n",
      "|        78.9|    1|\n",
      "|       291.9|    1|\n",
      "|       545.2|    1|\n",
      "|      5432.2|    1|\n",
      "|      600.15|    1|\n",
      "|     1285.05|    1|\n",
      "|      2638.1|    1|\n",
      "+------------+-----+\n",
      "only showing top 20 rows\n",
      "\n",
      "+-----+-----+\n",
      "|Churn|count|\n",
      "+-----+-----+\n",
      "|   No| 5174|\n",
      "|  Yes| 1869|\n",
      "+-----+-----+\n",
      "\n"
     ]
    }
   ],
   "source": [
    "for col in df.columns[1:]:\n",
    "    df.groupBy(col).count().show()"
   ]
  },
  {
   "cell_type": "code",
   "execution_count": 21,
   "metadata": {},
   "outputs": [],
   "source": [
    "from pyspark.ml.feature import StringIndexer"
   ]
  },
  {
   "cell_type": "code",
   "execution_count": 22,
   "metadata": {},
   "outputs": [],
   "source": [
    "indexer = StringIndexer(inputCol='gender', outputCol='genderInd').fit(df)"
   ]
  },
  {
   "cell_type": "code",
   "execution_count": 23,
   "metadata": {},
   "outputs": [
    {
     "name": "stdout",
     "output_type": "stream",
     "text": [
      "+------+---------+\n",
      "|gender|genderInd|\n",
      "+------+---------+\n",
      "|Female|      1.0|\n",
      "|  Male|      0.0|\n",
      "|  Male|      0.0|\n",
      "|  Male|      0.0|\n",
      "|Female|      1.0|\n",
      "|Female|      1.0|\n",
      "|  Male|      0.0|\n",
      "|Female|      1.0|\n",
      "|Female|      1.0|\n",
      "|  Male|      0.0|\n",
      "|  Male|      0.0|\n",
      "|  Male|      0.0|\n",
      "|  Male|      0.0|\n",
      "|  Male|      0.0|\n",
      "|  Male|      0.0|\n",
      "|Female|      1.0|\n",
      "|Female|      1.0|\n",
      "|  Male|      0.0|\n",
      "|Female|      1.0|\n",
      "|Female|      1.0|\n",
      "+------+---------+\n",
      "only showing top 20 rows\n",
      "\n"
     ]
    }
   ],
   "source": [
    "indexer.transform(df).select('gender', 'genderInd').show()"
   ]
  },
  {
   "cell_type": "code",
   "execution_count": 24,
   "metadata": {},
   "outputs": [
    {
     "name": "stdout",
     "output_type": "stream",
     "text": [
      "+-------+----------+------+------------------+-------+----------+------------------+------------+-------------+---------------+--------------+------------+----------------+-----------+-----------+---------------+--------------+----------------+--------------------+------------------+------------------+-----+\n",
      "|summary|customerID|gender|     SeniorCitizen|Partner|Dependents|            tenure|PhoneService|MultipleLines|InternetService|OnlineSecurity|OnlineBackup|DeviceProtection|TechSupport|StreamingTV|StreamingMovies|      Contract|PaperlessBilling|       PaymentMethod|    MonthlyCharges|      TotalCharges|Churn|\n",
      "+-------+----------+------+------------------+-------+----------+------------------+------------+-------------+---------------+--------------+------------+----------------+-----------+-----------+---------------+--------------+----------------+--------------------+------------------+------------------+-----+\n",
      "|  count|      7043|  7043|              7043|   7043|      7043|              7043|        7043|         7043|           7043|          7043|        7043|            7043|       7043|       7043|           7043|          7043|            7043|                7043|              7043|              7043| 7043|\n",
      "|   mean|      null|  null|0.1621468124378816|   null|      null| 32.37114865824223|        null|         null|           null|          null|        null|            null|       null|       null|           null|          null|            null|                null| 64.76169246059922|2283.3004408418697| null|\n",
      "| stddev|      null|  null|0.3686116056100135|   null|      null|24.559481023094442|        null|         null|           null|          null|        null|            null|       null|       null|           null|          null|            null|                null|30.090047097678482| 2266.771361883145| null|\n",
      "|    min|0002-ORFBO|Female|                 0|     No|        No|                 0|          No|           No|            DSL|            No|          No|              No|         No|         No|             No|Month-to-month|              No|Bank transfer (au...|             18.25|                  |   No|\n",
      "|    25%|      null|  null|                 0|   null|      null|                 9|        null|         null|           null|          null|        null|            null|       null|       null|           null|          null|            null|                null|              35.5|             401.3| null|\n",
      "|    50%|      null|  null|                 0|   null|      null|                29|        null|         null|           null|          null|        null|            null|       null|       null|           null|          null|            null|                null|             70.35|            1397.3| null|\n",
      "|    75%|      null|  null|                 1|   null|      null|                72|        null|         null|           null|          null|        null|            null|       null|       null|           null|          null|            null|                null|            118.75|            8684.8| null|\n",
      "|    max|9995-HOTOH|  Male|                 1|    Yes|       Yes|                72|         Yes|          Yes|             No|           Yes|         Yes|             Yes|        Yes|        Yes|            Yes|      Two year|             Yes|        Mailed check|            118.75|             999.9|  Yes|\n",
      "+-------+----------+------+------------------+-------+----------+------------------+------------+-------------+---------------+--------------+------------+----------------+-----------+-----------+---------------+--------------+----------------+--------------------+------------------+------------------+-----+\n",
      "\n"
     ]
    }
   ],
   "source": [
    "df.summary().show()"
   ]
  },
  {
   "cell_type": "code",
   "execution_count": 25,
   "metadata": {},
   "outputs": [],
   "source": [
    "df.TotalCharges = df.TotalCharges.astype('float')"
   ]
  },
  {
   "cell_type": "code",
   "execution_count": 26,
   "metadata": {},
   "outputs": [
    {
     "name": "stdout",
     "output_type": "stream",
     "text": [
      "root\n",
      " |-- customerID: string (nullable = true)\n",
      " |-- gender: string (nullable = true)\n",
      " |-- SeniorCitizen: integer (nullable = true)\n",
      " |-- Partner: string (nullable = true)\n",
      " |-- Dependents: string (nullable = true)\n",
      " |-- tenure: integer (nullable = true)\n",
      " |-- PhoneService: string (nullable = true)\n",
      " |-- MultipleLines: string (nullable = true)\n",
      " |-- InternetService: string (nullable = true)\n",
      " |-- OnlineSecurity: string (nullable = true)\n",
      " |-- OnlineBackup: string (nullable = true)\n",
      " |-- DeviceProtection: string (nullable = true)\n",
      " |-- TechSupport: string (nullable = true)\n",
      " |-- StreamingTV: string (nullable = true)\n",
      " |-- StreamingMovies: string (nullable = true)\n",
      " |-- Contract: string (nullable = true)\n",
      " |-- PaperlessBilling: string (nullable = true)\n",
      " |-- PaymentMethod: string (nullable = true)\n",
      " |-- MonthlyCharges: double (nullable = true)\n",
      " |-- TotalCharges: string (nullable = true)\n",
      " |-- Churn: string (nullable = true)\n",
      "\n"
     ]
    }
   ],
   "source": [
    "df.printSchema()"
   ]
  },
  {
   "cell_type": "code",
   "execution_count": 27,
   "metadata": {},
   "outputs": [],
   "source": [
    "rem_list = ['customerID', 'tenure', 'MonthlyCharges', 'TotalCharges']"
   ]
  },
  {
   "cell_type": "code",
   "execution_count": 28,
   "metadata": {},
   "outputs": [],
   "source": [
    "col_list = [col for col in df.columns if col not in rem_list]"
   ]
  },
  {
   "cell_type": "code",
   "execution_count": 29,
   "metadata": {},
   "outputs": [
    {
     "data": {
      "text/plain": [
       "['gender',\n",
       " 'SeniorCitizen',\n",
       " 'Partner',\n",
       " 'Dependents',\n",
       " 'PhoneService',\n",
       " 'MultipleLines',\n",
       " 'InternetService',\n",
       " 'OnlineSecurity',\n",
       " 'OnlineBackup',\n",
       " 'DeviceProtection',\n",
       " 'TechSupport',\n",
       " 'StreamingTV',\n",
       " 'StreamingMovies',\n",
       " 'Contract',\n",
       " 'PaperlessBilling',\n",
       " 'PaymentMethod',\n",
       " 'Churn']"
      ]
     },
     "execution_count": 29,
     "metadata": {},
     "output_type": "execute_result"
    }
   ],
   "source": [
    "col_list"
   ]
  },
  {
   "cell_type": "code",
   "execution_count": 31,
   "metadata": {},
   "outputs": [],
   "source": [
    "def col_indexer(df, columns):\n",
    "    for col in columns:\n",
    "        outputCol = col+'Idx'\n",
    "        indexer = StringIndexer(inputCol=col, outputCol=outputCol).fit(df)\n",
    "        df = indexer.transform(df)\n",
    "    return df"
   ]
  },
  {
   "cell_type": "code",
   "execution_count": 32,
   "metadata": {},
   "outputs": [],
   "source": [
    "df_idx = col_indexer(df, col_list)"
   ]
  },
  {
   "cell_type": "code",
   "execution_count": 33,
   "metadata": {},
   "outputs": [
    {
     "data": {
      "text/plain": [
       "['customerID',\n",
       " 'gender',\n",
       " 'SeniorCitizen',\n",
       " 'Partner',\n",
       " 'Dependents',\n",
       " 'tenure',\n",
       " 'PhoneService',\n",
       " 'MultipleLines',\n",
       " 'InternetService',\n",
       " 'OnlineSecurity',\n",
       " 'OnlineBackup',\n",
       " 'DeviceProtection',\n",
       " 'TechSupport',\n",
       " 'StreamingTV',\n",
       " 'StreamingMovies',\n",
       " 'Contract',\n",
       " 'PaperlessBilling',\n",
       " 'PaymentMethod',\n",
       " 'MonthlyCharges',\n",
       " 'TotalCharges',\n",
       " 'Churn',\n",
       " 'genderIdx',\n",
       " 'SeniorCitizenIdx',\n",
       " 'PartnerIdx',\n",
       " 'DependentsIdx',\n",
       " 'PhoneServiceIdx',\n",
       " 'MultipleLinesIdx',\n",
       " 'InternetServiceIdx',\n",
       " 'OnlineSecurityIdx',\n",
       " 'OnlineBackupIdx',\n",
       " 'DeviceProtectionIdx',\n",
       " 'TechSupportIdx',\n",
       " 'StreamingTVIdx',\n",
       " 'StreamingMoviesIdx',\n",
       " 'ContractIdx',\n",
       " 'PaperlessBillingIdx',\n",
       " 'PaymentMethodIdx',\n",
       " 'ChurnIdx']"
      ]
     },
     "execution_count": 33,
     "metadata": {},
     "output_type": "execute_result"
    }
   ],
   "source": [
    "df_idx.columns"
   ]
  },
  {
   "cell_type": "code",
   "execution_count": 34,
   "metadata": {},
   "outputs": [],
   "source": [
    "df_idx_new = df_idx.select('customerID', 'tenure', 'MonthlyCharges', 'genderIdx',\n",
    " 'SeniorCitizenIdx',\n",
    " 'PartnerIdx',\n",
    " 'DependentsIdx',\n",
    " 'PhoneServiceIdx',\n",
    " 'MultipleLinesIdx',\n",
    " 'InternetServiceIdx',\n",
    " 'OnlineSecurityIdx',\n",
    " 'OnlineBackupIdx',\n",
    " 'DeviceProtectionIdx',\n",
    " 'TechSupportIdx',\n",
    " 'StreamingTVIdx',\n",
    " 'StreamingMoviesIdx',\n",
    " 'ContractIdx',\n",
    " 'PaperlessBillingIdx',\n",
    " 'PaymentMethodIdx', 'Churn', 'ChurnIdx')"
   ]
  },
  {
   "cell_type": "code",
   "execution_count": 35,
   "metadata": {},
   "outputs": [],
   "source": [
    "from pyspark.ml.feature import VectorAssembler"
   ]
  },
  {
   "cell_type": "code",
   "execution_count": 36,
   "metadata": {},
   "outputs": [
    {
     "data": {
      "text/plain": [
       "['tenure',\n",
       " 'MonthlyCharges',\n",
       " 'genderIdx',\n",
       " 'SeniorCitizenIdx',\n",
       " 'PartnerIdx',\n",
       " 'DependentsIdx',\n",
       " 'PhoneServiceIdx',\n",
       " 'MultipleLinesIdx',\n",
       " 'InternetServiceIdx',\n",
       " 'OnlineSecurityIdx',\n",
       " 'OnlineBackupIdx',\n",
       " 'DeviceProtectionIdx',\n",
       " 'TechSupportIdx',\n",
       " 'StreamingTVIdx',\n",
       " 'StreamingMoviesIdx',\n",
       " 'ContractIdx',\n",
       " 'PaperlessBillingIdx',\n",
       " 'PaymentMethodIdx']"
      ]
     },
     "execution_count": 36,
     "metadata": {},
     "output_type": "execute_result"
    }
   ],
   "source": [
    "df_idx_new.columns[1:-2]"
   ]
  },
  {
   "cell_type": "code",
   "execution_count": 37,
   "metadata": {},
   "outputs": [],
   "source": [
    "assembler = VectorAssembler(inputCols=df_idx_new.columns[1:-2], outputCol='features')"
   ]
  },
  {
   "cell_type": "code",
   "execution_count": 38,
   "metadata": {},
   "outputs": [],
   "source": [
    "df_vec = assembler.transform(df_idx_new)"
   ]
  },
  {
   "cell_type": "code",
   "execution_count": 39,
   "metadata": {},
   "outputs": [
    {
     "name": "stdout",
     "output_type": "stream",
     "text": [
      "+----------+------+--------------+---------+----------------+----------+-------------+---------------+----------------+------------------+-----------------+---------------+-------------------+--------------+--------------+------------------+-----------+-------------------+----------------+-----+--------+--------------------+\n",
      "|customerID|tenure|MonthlyCharges|genderIdx|SeniorCitizenIdx|PartnerIdx|DependentsIdx|PhoneServiceIdx|MultipleLinesIdx|InternetServiceIdx|OnlineSecurityIdx|OnlineBackupIdx|DeviceProtectionIdx|TechSupportIdx|StreamingTVIdx|StreamingMoviesIdx|ContractIdx|PaperlessBillingIdx|PaymentMethodIdx|Churn|ChurnIdx|            features|\n",
      "+----------+------+--------------+---------+----------------+----------+-------------+---------------+----------------+------------------+-----------------+---------------+-------------------+--------------+--------------+------------------+-----------+-------------------+----------------+-----+--------+--------------------+\n",
      "|7590-VHVEG|     1|         29.85|      1.0|             0.0|       1.0|          0.0|            1.0|             2.0|               1.0|              0.0|            1.0|                0.0|           0.0|           0.0|               0.0|        0.0|                0.0|             0.0|   No|     0.0|(18,[0,1,2,4,6,7,...|\n",
      "|5575-GNVDE|    34|         56.95|      0.0|             0.0|       0.0|          0.0|            0.0|             0.0|               1.0|              1.0|            0.0|                1.0|           0.0|           0.0|               0.0|        2.0|                1.0|             1.0|   No|     0.0|(18,[0,1,8,9,11,1...|\n",
      "|3668-QPYBK|     2|         53.85|      0.0|             0.0|       0.0|          0.0|            0.0|             0.0|               1.0|              1.0|            1.0|                0.0|           0.0|           0.0|               0.0|        0.0|                0.0|             1.0|  Yes|     1.0|(18,[0,1,8,9,10,1...|\n",
      "|7795-CFOCW|    45|          42.3|      0.0|             0.0|       0.0|          0.0|            1.0|             2.0|               1.0|              1.0|            0.0|                1.0|           1.0|           0.0|               0.0|        2.0|                1.0|             2.0|   No|     0.0|[45.0,42.3,0.0,0....|\n",
      "|9237-HQITU|     2|          70.7|      1.0|             0.0|       0.0|          0.0|            0.0|             0.0|               0.0|              0.0|            0.0|                0.0|           0.0|           0.0|               0.0|        0.0|                0.0|             0.0|  Yes|     1.0|(18,[0,1,2],[2.0,...|\n",
      "|9305-CDSKC|     8|         99.65|      1.0|             0.0|       0.0|          0.0|            0.0|             1.0|               0.0|              0.0|            0.0|                1.0|           0.0|           1.0|               1.0|        0.0|                0.0|             0.0|  Yes|     1.0|(18,[0,1,2,7,11,1...|\n",
      "|1452-KIOVK|    22|          89.1|      0.0|             0.0|       0.0|          1.0|            0.0|             1.0|               0.0|              0.0|            1.0|                0.0|           0.0|           1.0|               0.0|        0.0|                0.0|             3.0|   No|     0.0|(18,[0,1,5,7,10,1...|\n",
      "|6713-OKOMC|    10|         29.75|      1.0|             0.0|       0.0|          0.0|            1.0|             2.0|               1.0|              1.0|            0.0|                0.0|           0.0|           0.0|               0.0|        0.0|                1.0|             1.0|   No|     0.0|(18,[0,1,2,6,7,8,...|\n",
      "|7892-POOKP|    28|         104.8|      1.0|             0.0|       1.0|          0.0|            0.0|             1.0|               0.0|              0.0|            0.0|                1.0|           1.0|           1.0|               1.0|        0.0|                0.0|             0.0|  Yes|     1.0|(18,[0,1,2,4,7,11...|\n",
      "|6388-TABGU|    62|         56.15|      0.0|             0.0|       0.0|          1.0|            0.0|             0.0|               1.0|              1.0|            1.0|                0.0|           0.0|           0.0|               0.0|        2.0|                1.0|             2.0|   No|     0.0|(18,[0,1,5,8,9,10...|\n",
      "|9763-GRSKD|    13|         49.95|      0.0|             0.0|       1.0|          1.0|            0.0|             0.0|               1.0|              1.0|            0.0|                0.0|           0.0|           0.0|               0.0|        0.0|                0.0|             1.0|   No|     0.0|(18,[0,1,4,5,8,9,...|\n",
      "|7469-LKBCI|    16|         18.95|      0.0|             0.0|       0.0|          0.0|            0.0|             0.0|               2.0|              2.0|            2.0|                2.0|           2.0|           2.0|               2.0|        1.0|                1.0|             3.0|   No|     0.0|[16.0,18.95,0.0,0...|\n",
      "|8091-TTVAX|    58|        100.35|      0.0|             0.0|       1.0|          0.0|            0.0|             1.0|               0.0|              0.0|            0.0|                1.0|           0.0|           1.0|               1.0|        2.0|                1.0|             3.0|   No|     0.0|(18,[0,1,4,7,11,1...|\n",
      "|0280-XJGEX|    49|         103.7|      0.0|             0.0|       0.0|          0.0|            0.0|             1.0|               0.0|              0.0|            1.0|                1.0|           0.0|           1.0|               1.0|        0.0|                0.0|             2.0|  Yes|     1.0|(18,[0,1,7,10,11,...|\n",
      "|5129-JLPIS|    25|         105.5|      0.0|             0.0|       0.0|          0.0|            0.0|             0.0|               0.0|              1.0|            0.0|                1.0|           1.0|           1.0|               1.0|        0.0|                0.0|             0.0|   No|     0.0|(18,[0,1,9,11,12,...|\n",
      "|3655-SNQYZ|    69|        113.25|      1.0|             0.0|       1.0|          1.0|            0.0|             1.0|               0.0|              1.0|            1.0|                1.0|           1.0|           1.0|               1.0|        1.0|                1.0|             3.0|   No|     0.0|[69.0,113.25,1.0,...|\n",
      "|8191-XWSZG|    52|         20.65|      1.0|             0.0|       0.0|          0.0|            0.0|             0.0|               2.0|              2.0|            2.0|                2.0|           2.0|           2.0|               2.0|        2.0|                1.0|             1.0|   No|     0.0|[52.0,20.65,1.0,0...|\n",
      "|9959-WOFKT|    71|         106.7|      0.0|             0.0|       0.0|          1.0|            0.0|             1.0|               0.0|              1.0|            0.0|                1.0|           0.0|           1.0|               1.0|        1.0|                1.0|             2.0|   No|     0.0|[71.0,106.7,0.0,0...|\n",
      "|4190-MFLUW|    10|          55.2|      1.0|             0.0|       1.0|          1.0|            0.0|             0.0|               1.0|              0.0|            0.0|                1.0|           1.0|           0.0|               0.0|        0.0|                1.0|             3.0|  Yes|     1.0|(18,[0,1,2,4,5,8,...|\n",
      "|4183-MYFRB|    21|         90.05|      1.0|             0.0|       0.0|          0.0|            0.0|             0.0|               0.0|              0.0|            1.0|                1.0|           0.0|           0.0|               1.0|        0.0|                0.0|             0.0|   No|     0.0|(18,[0,1,2,10,11,...|\n",
      "+----------+------+--------------+---------+----------------+----------+-------------+---------------+----------------+------------------+-----------------+---------------+-------------------+--------------+--------------+------------------+-----------+-------------------+----------------+-----+--------+--------------------+\n",
      "only showing top 20 rows\n",
      "\n"
     ]
    }
   ],
   "source": [
    "df_vec.show()"
   ]
  },
  {
   "cell_type": "code",
   "execution_count": 40,
   "metadata": {},
   "outputs": [
    {
     "name": "stdout",
     "output_type": "stream",
     "text": [
      "+----------+--------------------+--------+\n",
      "|customerID|            features|ChurnIdx|\n",
      "+----------+--------------------+--------+\n",
      "|7590-VHVEG|(18,[0,1,2,4,6,7,...|     0.0|\n",
      "|5575-GNVDE|(18,[0,1,8,9,11,1...|     0.0|\n",
      "|3668-QPYBK|(18,[0,1,8,9,10,1...|     1.0|\n",
      "|7795-CFOCW|[45.0,42.3,0.0,0....|     0.0|\n",
      "|9237-HQITU|(18,[0,1,2],[2.0,...|     1.0|\n",
      "|9305-CDSKC|(18,[0,1,2,7,11,1...|     1.0|\n",
      "|1452-KIOVK|(18,[0,1,5,7,10,1...|     0.0|\n",
      "|6713-OKOMC|(18,[0,1,2,6,7,8,...|     0.0|\n",
      "|7892-POOKP|(18,[0,1,2,4,7,11...|     1.0|\n",
      "|6388-TABGU|(18,[0,1,5,8,9,10...|     0.0|\n",
      "|9763-GRSKD|(18,[0,1,4,5,8,9,...|     0.0|\n",
      "|7469-LKBCI|[16.0,18.95,0.0,0...|     0.0|\n",
      "|8091-TTVAX|(18,[0,1,4,7,11,1...|     0.0|\n",
      "|0280-XJGEX|(18,[0,1,7,10,11,...|     1.0|\n",
      "|5129-JLPIS|(18,[0,1,9,11,12,...|     0.0|\n",
      "|3655-SNQYZ|[69.0,113.25,1.0,...|     0.0|\n",
      "|8191-XWSZG|[52.0,20.65,1.0,0...|     0.0|\n",
      "|9959-WOFKT|[71.0,106.7,0.0,0...|     0.0|\n",
      "|4190-MFLUW|(18,[0,1,2,4,5,8,...|     1.0|\n",
      "|4183-MYFRB|(18,[0,1,2,10,11,...|     0.0|\n",
      "+----------+--------------------+--------+\n",
      "only showing top 20 rows\n",
      "\n"
     ]
    }
   ],
   "source": [
    "df_vec.select('customerID', 'features', 'ChurnIdx').show()"
   ]
  },
  {
   "cell_type": "code",
   "execution_count": 41,
   "metadata": {},
   "outputs": [],
   "source": [
    "df_set = df_vec.select('customerID', 'features', 'ChurnIdx')"
   ]
  },
  {
   "cell_type": "code",
   "execution_count": 42,
   "metadata": {},
   "outputs": [],
   "source": [
    "X_train, X_test = df_set.randomSplit([0.8, 0.2])"
   ]
  },
  {
   "cell_type": "code",
   "execution_count": 43,
   "metadata": {},
   "outputs": [
    {
     "name": "stdout",
     "output_type": "stream",
     "text": [
      "+----------+--------------------+--------+\n",
      "|customerID|            features|ChurnIdx|\n",
      "+----------+--------------------+--------+\n",
      "|0002-ORFBO|[9.0,65.6,1.0,0.0...|     0.0|\n",
      "|0003-MKNFE|(18,[0,1,7,8,14,1...|     0.0|\n",
      "|0004-TLHLJ|(18,[0,1,11],[4.0...|     1.0|\n",
      "|0011-IGKFF|(18,[0,1,3,4,10,1...|     1.0|\n",
      "|0013-EXCHZ|(18,[0,1,2,3,4,12...|     1.0|\n",
      "|0014-BMAQU|(18,[0,1,4,7,9,12...|     0.0|\n",
      "|0016-QLJIS|[65.0,90.45,1.0,0...|     0.0|\n",
      "|0017-IUDMW|[72.0,116.8,1.0,0...|     0.0|\n",
      "|0020-INWCK|[71.0,95.75,1.0,0...|     0.0|\n",
      "|0020-JDNXP|[34.0,61.25,1.0,0...|     0.0|\n",
      "|0021-IKXGC|(18,[0,1,2,3,7],[...|     0.0|\n",
      "|0022-TCJCI|(18,[0,1,3,8,9,11...|     1.0|\n",
      "|0023-HGHWL|(18,[0,1,3,6,7,8]...|     1.0|\n",
      "|0023-UYUPN|[50.0,25.2,1.0,1....|     0.0|\n",
      "|0027-KWYKW|(18,[0,1,2,4,5,7,...|     0.0|\n",
      "|0030-FNXPP|[3.0,19.85,1.0,0....|     0.0|\n",
      "|0031-PVLZI|[4.0,20.35,1.0,0....|     1.0|\n",
      "|0032-PGELS|[1.0,30.5,1.0,0.0...|     1.0|\n",
      "|0036-IHMOT|[55.0,103.7,1.0,0...|     0.0|\n",
      "|0042-JVWOJ|[26.0,19.6,0.0,0....|     0.0|\n",
      "+----------+--------------------+--------+\n",
      "only showing top 20 rows\n",
      "\n"
     ]
    }
   ],
   "source": [
    "X_train.show()"
   ]
  },
  {
   "cell_type": "code",
   "execution_count": 44,
   "metadata": {},
   "outputs": [
    {
     "name": "stdout",
     "output_type": "stream",
     "text": [
      "+----------+--------------------+--------+\n",
      "|customerID|            features|ChurnIdx|\n",
      "+----------+--------------------+--------+\n",
      "|0013-MHZWF|(18,[0,1,2,5,8,12...|     0.0|\n",
      "|0013-SMEOE|[71.0,109.7,1.0,1...|     0.0|\n",
      "|0015-UOCOJ|(18,[0,1,2,3,8,9]...|     0.0|\n",
      "|0017-DINOC|[54.0,45.2,0.0,0....|     0.0|\n",
      "|0018-NYROU|(18,[0,1,2,4],[5....|     0.0|\n",
      "|0019-EFAEP|(18,[0,1,2,7,9,10...|     0.0|\n",
      "|0019-GFNTW|[56.0,45.05,1.0,0...|     0.0|\n",
      "|0023-XUOPT|(18,[0,1,2,4,7,10...|     1.0|\n",
      "|0040-HALCW|[54.0,20.4,0.0,0....|     0.0|\n",
      "|0048-LUMLS|(18,[0,1,4,5,13,1...|     0.0|\n",
      "|0076-LVEPS|[29.0,45.0,0.0,0....|     0.0|\n",
      "|0125-LZQXK|(18,[0,1,11,12,13...|     1.0|\n",
      "|0147-ESWWR|(18,[0,1,2,3,4,7,...|     0.0|\n",
      "|0148-DCDOS|(18,[0,1,7,13,14,...|     1.0|\n",
      "|0178-CIIKR|[3.0,19.95,1.0,0....|     0.0|\n",
      "|0195-IESCP|(18,[0,1,4,7,14],...|     1.0|\n",
      "|0197-PNKNK|[69.0,84.45,1.0,0...|     0.0|\n",
      "|0218-QNVAS|[71.0,100.55,0.0,...|     0.0|\n",
      "|0224-NIJLP|[8.0,20.15,0.0,0....|     0.0|\n",
      "|0224-RLWWD|(18,[0,1,2,3,8],[...|     0.0|\n",
      "+----------+--------------------+--------+\n",
      "only showing top 20 rows\n",
      "\n"
     ]
    }
   ],
   "source": [
    "X_test.show()"
   ]
  },
  {
   "cell_type": "code",
   "execution_count": 45,
   "metadata": {},
   "outputs": [],
   "source": [
    "from pyspark.ml.classification import RandomForestClassifier"
   ]
  },
  {
   "cell_type": "code",
   "execution_count": 46,
   "metadata": {},
   "outputs": [],
   "source": [
    "rfc = RandomForestClassifier(featuresCol='features', \n",
    "                             labelCol='ChurnIdx', \n",
    "                             predictionCol='prediction', \n",
    "                             maxDepth=10)"
   ]
  },
  {
   "cell_type": "code",
   "execution_count": 47,
   "metadata": {},
   "outputs": [],
   "source": [
    "model = rfc.fit(X_train)"
   ]
  },
  {
   "cell_type": "code",
   "execution_count": 48,
   "metadata": {},
   "outputs": [],
   "source": [
    "pred = model.transform(X_test)"
   ]
  },
  {
   "cell_type": "code",
   "execution_count": 49,
   "metadata": {},
   "outputs": [
    {
     "name": "stdout",
     "output_type": "stream",
     "text": [
      "+----------+--------------------+--------+--------------------+--------------------+----------+\n",
      "|customerID|            features|ChurnIdx|       rawPrediction|         probability|prediction|\n",
      "+----------+--------------------+--------+--------------------+--------------------+----------+\n",
      "|0013-MHZWF|(18,[0,1,2,5,8,12...|     0.0|[12.0075270204228...|[0.60037635102114...|       0.0|\n",
      "|0013-SMEOE|[71.0,109.7,1.0,1...|     0.0|[19.4742394435727...|[0.97371197217863...|       0.0|\n",
      "|0015-UOCOJ|(18,[0,1,2,3,8,9]...|     0.0|[10.0043568873433...|[0.50021784436716...|       0.0|\n",
      "|0017-DINOC|[54.0,45.2,0.0,0....|     0.0|[19.6563467919932...|[0.98281733959966...|       0.0|\n",
      "|0018-NYROU|(18,[0,1,2,4],[5....|     0.0|[6.74747847167312...|[0.33737392358365...|       1.0|\n",
      "|0019-EFAEP|(18,[0,1,2,7,9,10...|     0.0|[17.8645187799450...|[0.89322593899725...|       0.0|\n",
      "|0019-GFNTW|[56.0,45.05,1.0,0...|     0.0|[18.8473100834009...|[0.94236550417004...|       0.0|\n",
      "|0023-XUOPT|(18,[0,1,2,4,7,10...|     1.0|[8.01598027949336...|[0.40079901397466...|       1.0|\n",
      "|0040-HALCW|[54.0,20.4,0.0,0....|     0.0|[19.8804837798902...|[0.99402418899451...|       0.0|\n",
      "|0048-LUMLS|(18,[0,1,4,5,13,1...|     0.0|[17.0441243398486...|[0.85220621699243...|       0.0|\n",
      "|0076-LVEPS|[29.0,45.0,0.0,0....|     0.0|[16.3663469231741...|[0.81831734615870...|       0.0|\n",
      "|0125-LZQXK|(18,[0,1,11,12,13...|     1.0|[9.49691073179261...|[0.47484553658963...|       1.0|\n",
      "|0147-ESWWR|(18,[0,1,2,3,4,7,...|     0.0|[8.2804123825627,...|[0.41402061912813...|       1.0|\n",
      "|0148-DCDOS|(18,[0,1,7,13,14,...|     1.0|[11.2937000416772...|[0.56468500208386...|       0.0|\n",
      "|0178-CIIKR|[3.0,19.95,1.0,0....|     0.0|[16.8198427496410...|[0.84099213748205...|       0.0|\n",
      "|0195-IESCP|(18,[0,1,4,7,14],...|     1.0|[5.25596452403273...|[0.26279822620163...|       1.0|\n",
      "|0197-PNKNK|[69.0,84.45,1.0,0...|     0.0|[19.4964317261735...|[0.97482158630867...|       0.0|\n",
      "|0218-QNVAS|[71.0,100.55,0.0,...|     0.0|[17.3797988728521...|[0.86898994364260...|       0.0|\n",
      "|0224-NIJLP|[8.0,20.15,0.0,0....|     0.0|[19.8070210257822...|[0.99035105128911...|       0.0|\n",
      "|0224-RLWWD|(18,[0,1,2,3,8],[...|     0.0|[7.30674211146578...|[0.36533710557328...|       1.0|\n",
      "+----------+--------------------+--------+--------------------+--------------------+----------+\n",
      "only showing top 20 rows\n",
      "\n"
     ]
    }
   ],
   "source": [
    "pred.show()"
   ]
  },
  {
   "cell_type": "code",
   "execution_count": 50,
   "metadata": {},
   "outputs": [],
   "source": [
    "from pyspark.ml.evaluation import BinaryClassificationEvaluator"
   ]
  },
  {
   "cell_type": "code",
   "execution_count": 51,
   "metadata": {},
   "outputs": [],
   "source": [
    "ev = BinaryClassificationEvaluator(rawPredictionCol='rawPrediction', labelCol='ChurnIdx', \n",
    "                                  metricName='areaUnderROC')"
   ]
  },
  {
   "cell_type": "code",
   "execution_count": 52,
   "metadata": {},
   "outputs": [
    {
     "data": {
      "text/plain": [
       "0.8402271830025447"
      ]
     },
     "execution_count": 52,
     "metadata": {},
     "output_type": "execute_result"
    }
   ],
   "source": [
    "ev.evaluate(pred)"
   ]
  },
  {
   "cell_type": "code",
   "execution_count": 53,
   "metadata": {},
   "outputs": [],
   "source": [
    "from pyspark.ml.classification import GBTClassifier"
   ]
  },
  {
   "cell_type": "code",
   "execution_count": 85,
   "metadata": {},
   "outputs": [],
   "source": [
    "gbt = GBTClassifier(featuresCol='features', labelCol='ChurnIdx', predictionCol='prediction',\n",
    "                   maxDepth=5, maxIter=10)\n",
    "gmodel = gbt.fit(X_train)"
   ]
  },
  {
   "cell_type": "code",
   "execution_count": 82,
   "metadata": {},
   "outputs": [],
   "source": [
    "gpred = gmodel.transform(X_test)"
   ]
  },
  {
   "cell_type": "code",
   "execution_count": 83,
   "metadata": {},
   "outputs": [
    {
     "name": "stdout",
     "output_type": "stream",
     "text": [
      "+----------+--------------------+--------+--------------------+--------------------+----------+\n",
      "|customerID|            features|ChurnIdx|       rawPrediction|         probability|prediction|\n",
      "+----------+--------------------+--------+--------------------+--------------------+----------+\n",
      "|0013-MHZWF|(18,[0,1,2,5,8,12...|     0.0|[0.61704426001875...|[0.77453335969282...|       0.0|\n",
      "|0013-SMEOE|[71.0,109.7,1.0,1...|     0.0|[0.91863091251497...|[0.86262454634730...|       0.0|\n",
      "|0015-UOCOJ|(18,[0,1,2,3,8,9]...|     0.0|[0.56280491673535...|[0.75502779970893...|       0.0|\n",
      "|0017-DINOC|[54.0,45.2,0.0,0....|     0.0|[1.13743054407536...|[0.90677353462802...|       0.0|\n",
      "|0018-NYROU|(18,[0,1,2,4],[5....|     0.0|[-0.1703941951964...|[0.41561798033277...|       1.0|\n",
      "|0019-EFAEP|(18,[0,1,2,7,9,10...|     0.0|[1.16764690344366...|[0.91175818046505...|       0.0|\n",
      "|0019-GFNTW|[56.0,45.05,1.0,0...|     0.0|[1.14808813523474...|[0.90855986386483...|       0.0|\n",
      "|0023-XUOPT|(18,[0,1,2,4,7,10...|     1.0|[-0.3338290303770...|[0.33902143835290...|       1.0|\n",
      "|0040-HALCW|[54.0,20.4,0.0,0....|     0.0|[1.13743054407536...|[0.90677353462802...|       0.0|\n",
      "|0048-LUMLS|(18,[0,1,4,5,13,1...|     0.0|[0.70879565090458...|[0.80496053078288...|       0.0|\n",
      "|0076-LVEPS|[29.0,45.0,0.0,0....|     0.0|[0.54938222411963...|[0.75002852883430...|       0.0|\n",
      "|0125-LZQXK|(18,[0,1,11,12,13...|     1.0|[0.00346160532050...|[0.50173079574705...|       0.0|\n",
      "|0147-ESWWR|(18,[0,1,2,3,4,7,...|     0.0|[-0.0903814484406...|[0.45493192645447...|       1.0|\n",
      "|0148-DCDOS|(18,[0,1,7,13,14,...|     1.0|[0.33526758917716...|[0.66162298423009...|       0.0|\n",
      "|0178-CIIKR|[3.0,19.95,1.0,0....|     0.0|[0.72387560500722...|[0.80965210173283...|       0.0|\n",
      "|0195-IESCP|(18,[0,1,4,7,14],...|     1.0|[-0.5662557083138...|[0.24369792570459...|       1.0|\n",
      "|0197-PNKNK|[69.0,84.45,1.0,0...|     0.0|[1.15077233319735...|[0.90900488681572...|       0.0|\n",
      "|0218-QNVAS|[71.0,100.55,0.0,...|     0.0|[0.68004276558888...|[0.79577359842166...|       0.0|\n",
      "|0224-NIJLP|[8.0,20.15,0.0,0....|     0.0|[1.14623838503914...|[0.90825204877108...|       0.0|\n",
      "|0224-RLWWD|(18,[0,1,2,3,8],[...|     0.0|[-0.2119163960071...|[0.39559996141770...|       1.0|\n",
      "+----------+--------------------+--------+--------------------+--------------------+----------+\n",
      "only showing top 20 rows\n",
      "\n"
     ]
    }
   ],
   "source": [
    "gpred.show()"
   ]
  },
  {
   "cell_type": "code",
   "execution_count": 84,
   "metadata": {},
   "outputs": [
    {
     "data": {
      "text/plain": [
       "0.8475128306356093"
      ]
     },
     "execution_count": 84,
     "metadata": {},
     "output_type": "execute_result"
    }
   ],
   "source": [
    "geval = BinaryClassificationEvaluator(rawPredictionCol='rawPrediction', labelCol='ChurnIdx', \n",
    "                                  metricName='areaUnderROC')\n",
    "geval.evaluate(gpred)"
   ]
  },
  {
   "cell_type": "code",
   "execution_count": null,
   "metadata": {},
   "outputs": [],
   "source": []
  }
 ],
 "metadata": {
  "kernelspec": {
   "display_name": "Python 3",
   "language": "python",
   "name": "python3"
  },
  "language_info": {
   "codemirror_mode": {
    "name": "ipython",
    "version": 3
   },
   "file_extension": ".py",
   "mimetype": "text/x-python",
   "name": "python",
   "nbconvert_exporter": "python",
   "pygments_lexer": "ipython3",
   "version": "3.7.1"
  }
 },
 "nbformat": 4,
 "nbformat_minor": 2
}
